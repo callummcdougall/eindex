{
 "cells": [
  {
   "cell_type": "code",
   "execution_count": 1,
   "metadata": {},
   "outputs": [],
   "source": [
    "import os, sys\n",
    "import torch as t\n",
    "import einops"
   ]
  },
  {
   "cell_type": "code",
   "execution_count": 4,
   "metadata": {},
   "outputs": [],
   "source": [
    "from eindex import eindex\n",
    "\n",
    "# It was going into workspace settings.json (i.e. `.vscode/settings.json` in this folder) and\n",
    "# adding the"
   ]
  },
  {
   "cell_type": "markdown",
   "metadata": {},
   "source": [
    "## Short note on paths\n",
    "\n",
    "I needed to go into `.vscode/settings.json` *in this directory*, and add the following:\n",
    "\n",
    "```json\n",
    "{\n",
    "    \"python.analysis.extraPaths\": [\n",
    "        \"C:/Users/calsm/Documents/AI Alignment/my_eindex/eindex\"\n",
    "    ],\n",
    "    \"python.analysis.include\": [\n",
    "        \"C:/Users/calsm/Documents/AI Alignment/my_eindex/eindex\"\n",
    "    ]\n",
    "}\n",
    "```\n",
    "\n",
    "I neither know nor care which of these actually helped.\n",
    "\n",
    "Also, this is the kind of structure I need:\n",
    "\n",
    "```\n",
    ".\n",
    "├── demo.ipynb\n",
    "└── utils/\n",
    "    ├── __init__.py\n",
    "    └── util.py\n",
    "```\n",
    "\n",
    "because then I can do things like `from utils import util` or `from utils.util import *` from within the demo notebook.\n",
    "\n",
    "\n",
    "\n",
    "---"
   ]
  },
  {
   "cell_type": "markdown",
   "metadata": {},
   "source": [
    "I've written a function `einops.index`, which has some sweet notation for indexing.\n",
    "\n",
    "Not sure what the endgame here is - I assume have it on my own repo which I'll call `eindex`, rather than having it be a fork of einops? idk, ask Arthur."
   ]
  },
  {
   "cell_type": "markdown",
   "metadata": {},
   "source": [
    "# Test 1 - indexing correct logits\n",
    "\n",
    "```\n",
    "output[batch, seq] = logrobs[batch, seq, labels[batch, seq]]\n",
    "```"
   ]
  },
  {
   "cell_type": "code",
   "execution_count": 6,
   "metadata": {},
   "outputs": [],
   "source": [
    "BATCH_SIZE = 32\n",
    "SEQ_LEN = 5\n",
    "D_VOCAB = 100\n",
    "\n",
    "logprobs = t.randn(BATCH_SIZE, SEQ_LEN, D_VOCAB).log_softmax(-1)\n",
    "labels = t.randint(0, D_VOCAB, (BATCH_SIZE, SEQ_LEN))\n",
    "\n",
    "# Normal method (at least the normal method that I use!)\n",
    "\n",
    "batch_idx = einops.repeat(t.arange(BATCH_SIZE), \"b -> b s\", s=SEQ_LEN)\n",
    "seq_idx = einops.repeat(t.arange(SEQ_LEN), \"s -> b s\", b=BATCH_SIZE)\n",
    "\n",
    "output_1 = logprobs[batch_idx, seq_idx, labels]\n",
    "\n",
    "# New method, using eindex\n",
    "\n",
    "output_2 = eindex(logprobs, labels, \"batch seq [batch seq]\")\n",
    "\n",
    "assert t.allclose(output_1, output_2)"
   ]
  },
  {
   "cell_type": "markdown",
   "metadata": {},
   "source": [
    "# Test 2 - same, but two `d_vocab_out` dims\n",
    "\n",
    "```\n",
    "output[batch, seq] = logrobs[batch, seq, labels[batch, seq, 0], labels[batch, seq, 1]]\n",
    "```"
   ]
  },
  {
   "cell_type": "code",
   "execution_count": 7,
   "metadata": {},
   "outputs": [],
   "source": [
    "D_VOCAB_OUT_1 = 100\n",
    "D_VOCAB_OUT_2 = 100\n",
    "D_VOCAB_ALL = D_VOCAB_OUT_1 * D_VOCAB_OUT_2\n",
    "\n",
    "logprobs_shape = BATCH_SIZE, SEQ_LEN, D_VOCAB_OUT_1, D_VOCAB_OUT_2\n",
    "logprobs = t.randn(BATCH_SIZE, SEQ_LEN, D_VOCAB_ALL).log_softmax(-1).reshape(logprobs_shape)\n",
    "labels = t.randint(0, D_VOCAB, (BATCH_SIZE, SEQ_LEN, 2))\n",
    "\n",
    "# Normal method\n",
    "\n",
    "batch_idx = einops.repeat(t.arange(BATCH_SIZE), \"b -> b s\", s=SEQ_LEN)\n",
    "seq_idx = einops.repeat(t.arange(SEQ_LEN), \"s -> b s\", b=BATCH_SIZE)\n",
    "\n",
    "output_1 = logprobs[batch_idx, seq_idx, labels[:, :, 0], labels[:, :, 1]]\n",
    "\n",
    "# New method, using eindex\n",
    "\n",
    "output_2 = eindex(logprobs, labels, \"batch seq [batch seq 0] [batch seq 1]\")\n",
    "\n",
    "assert t.allclose(output_1, output_2)"
   ]
  },
  {
   "cell_type": "markdown",
   "metadata": {},
   "source": [
    "# Test 3 - indexing logprobs along sequence dim\n",
    "\n",
    "```\n",
    "output[batch, d_vocab] = logprobs[batch, seq_indices[batch], d_vocab]\n",
    "```"
   ]
  },
  {
   "cell_type": "code",
   "execution_count": 8,
   "metadata": {},
   "outputs": [],
   "source": [
    "logprobs = t.randn(BATCH_SIZE, SEQ_LEN, D_VOCAB).log_softmax(-1)\n",
    "seq_indices = t.randint(0, SEQ_LEN, (BATCH_SIZE,))\n",
    "\n",
    "# Normal method\n",
    "\n",
    "output_1 = logprobs[range(BATCH_SIZE), seq_indices]\n",
    "\n",
    "# New method, using eindex\n",
    "\n",
    "output_2 = eindex(logprobs, seq_indices, \"batch [batch] d_vocab\")\n",
    "\n",
    "assert t.allclose(output_1, output_2)"
   ]
  }
 ],
 "metadata": {
  "kernelspec": {
   "display_name": "tl_intro_test",
   "language": "python",
   "name": "python3"
  },
  "language_info": {
   "codemirror_mode": {
    "name": "ipython",
    "version": 3
   },
   "file_extension": ".py",
   "mimetype": "text/x-python",
   "name": "python",
   "nbconvert_exporter": "python",
   "pygments_lexer": "ipython3",
   "version": "3.11.4"
  },
  "orig_nbformat": 4
 },
 "nbformat": 4,
 "nbformat_minor": 2
}
